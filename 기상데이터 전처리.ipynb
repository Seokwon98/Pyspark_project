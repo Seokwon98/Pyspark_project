{
  "nbformat": 4,
  "nbformat_minor": 0,
  "metadata": {
    "colab": {
      "provenance": []
    },
    "kernelspec": {
      "name": "python3",
      "display_name": "Python 3"
    },
    "language_info": {
      "name": "python"
    }
  },
  "cells": [
    {
      "cell_type": "code",
      "execution_count": null,
      "metadata": {
        "colab": {
          "base_uri": "https://localhost:8080/"
        },
        "id": "7_hrAUFpQcrB",
        "outputId": "e928acca-97d2-4774-98fd-cbbbfe9b766f"
      },
      "outputs": [
        {
          "output_type": "stream",
          "name": "stdout",
          "text": [
            "Looking in indexes: https://pypi.org/simple, https://us-python.pkg.dev/colab-wheels/public/simple/\n",
            "Collecting pyspark\n",
            "  Downloading pyspark-3.3.1.tar.gz (281.4 MB)\n",
            "\u001b[K     |████████████████████████████████| 281.4 MB 38 kB/s \n",
            "\u001b[?25hCollecting py4j==0.10.9.5\n",
            "  Downloading py4j-0.10.9.5-py2.py3-none-any.whl (199 kB)\n",
            "\u001b[K     |████████████████████████████████| 199 kB 59.5 MB/s \n",
            "\u001b[?25hBuilding wheels for collected packages: pyspark\n",
            "  Building wheel for pyspark (setup.py) ... \u001b[?25l\u001b[?25hdone\n",
            "  Created wheel for pyspark: filename=pyspark-3.3.1-py2.py3-none-any.whl size=281845512 sha256=241e1e904ff4840d0d618ed6fcd6a19df580cfd53ad6c202db2d250c685dc2a9\n",
            "  Stored in directory: /root/.cache/pip/wheels/43/dc/11/ec201cd671da62fa9c5cc77078235e40722170ceba231d7598\n",
            "Successfully built pyspark\n",
            "Installing collected packages: py4j, pyspark\n",
            "Successfully installed py4j-0.10.9.5 pyspark-3.3.1\n",
            "The following package was automatically installed and is no longer required:\n",
            "  libnvidia-common-460\n",
            "Use 'apt autoremove' to remove it.\n",
            "The following additional packages will be installed:\n",
            "  openjdk-8-jre-headless\n",
            "Suggested packages:\n",
            "  openjdk-8-demo openjdk-8-source libnss-mdns fonts-dejavu-extra\n",
            "  fonts-ipafont-gothic fonts-ipafont-mincho fonts-wqy-microhei\n",
            "  fonts-wqy-zenhei fonts-indic\n",
            "The following NEW packages will be installed:\n",
            "  openjdk-8-jdk-headless openjdk-8-jre-headless\n",
            "0 upgraded, 2 newly installed, 0 to remove and 20 not upgraded.\n",
            "Need to get 36.6 MB of archives.\n",
            "After this operation, 143 MB of additional disk space will be used.\n",
            "Selecting previously unselected package openjdk-8-jre-headless:amd64.\n",
            "(Reading database ... 124016 files and directories currently installed.)\n",
            "Preparing to unpack .../openjdk-8-jre-headless_8u352-ga-1~18.04_amd64.deb ...\n",
            "Unpacking openjdk-8-jre-headless:amd64 (8u352-ga-1~18.04) ...\n",
            "Selecting previously unselected package openjdk-8-jdk-headless:amd64.\n",
            "Preparing to unpack .../openjdk-8-jdk-headless_8u352-ga-1~18.04_amd64.deb ...\n",
            "Unpacking openjdk-8-jdk-headless:amd64 (8u352-ga-1~18.04) ...\n",
            "Setting up openjdk-8-jre-headless:amd64 (8u352-ga-1~18.04) ...\n",
            "update-alternatives: using /usr/lib/jvm/java-8-openjdk-amd64/jre/bin/orbd to provide /usr/bin/orbd (orbd) in auto mode\n",
            "update-alternatives: using /usr/lib/jvm/java-8-openjdk-amd64/jre/bin/servertool to provide /usr/bin/servertool (servertool) in auto mode\n",
            "update-alternatives: using /usr/lib/jvm/java-8-openjdk-amd64/jre/bin/tnameserv to provide /usr/bin/tnameserv (tnameserv) in auto mode\n",
            "Setting up openjdk-8-jdk-headless:amd64 (8u352-ga-1~18.04) ...\n",
            "update-alternatives: using /usr/lib/jvm/java-8-openjdk-amd64/bin/idlj to provide /usr/bin/idlj (idlj) in auto mode\n",
            "update-alternatives: using /usr/lib/jvm/java-8-openjdk-amd64/bin/wsimport to provide /usr/bin/wsimport (wsimport) in auto mode\n",
            "update-alternatives: using /usr/lib/jvm/java-8-openjdk-amd64/bin/jsadebugd to provide /usr/bin/jsadebugd (jsadebugd) in auto mode\n",
            "update-alternatives: using /usr/lib/jvm/java-8-openjdk-amd64/bin/native2ascii to provide /usr/bin/native2ascii (native2ascii) in auto mode\n",
            "update-alternatives: using /usr/lib/jvm/java-8-openjdk-amd64/bin/javah to provide /usr/bin/javah (javah) in auto mode\n",
            "update-alternatives: using /usr/lib/jvm/java-8-openjdk-amd64/bin/clhsdb to provide /usr/bin/clhsdb (clhsdb) in auto mode\n",
            "update-alternatives: using /usr/lib/jvm/java-8-openjdk-amd64/bin/xjc to provide /usr/bin/xjc (xjc) in auto mode\n",
            "update-alternatives: using /usr/lib/jvm/java-8-openjdk-amd64/bin/hsdb to provide /usr/bin/hsdb (hsdb) in auto mode\n",
            "update-alternatives: using /usr/lib/jvm/java-8-openjdk-amd64/bin/schemagen to provide /usr/bin/schemagen (schemagen) in auto mode\n",
            "update-alternatives: using /usr/lib/jvm/java-8-openjdk-amd64/bin/extcheck to provide /usr/bin/extcheck (extcheck) in auto mode\n",
            "update-alternatives: using /usr/lib/jvm/java-8-openjdk-amd64/bin/jhat to provide /usr/bin/jhat (jhat) in auto mode\n",
            "update-alternatives: using /usr/lib/jvm/java-8-openjdk-amd64/bin/wsgen to provide /usr/bin/wsgen (wsgen) in auto mode\n"
          ]
        }
      ],
      "source": [
        "!pip install pyspark\n",
        "!apt install openjdk-8-jdk-headless -qq"
      ]
    },
    {
      "cell_type": "code",
      "source": [
        "import pyspark\n",
        "from pyspark.sql import *\n",
        "from pyspark.sql.types import *\n",
        "import pyspark.sql.functions as fn\n",
        "from pyspark import SparkContext, SparkConf"
      ],
      "metadata": {
        "id": "H4BbdPEUQfmP"
      },
      "execution_count": null,
      "outputs": []
    },
    {
      "cell_type": "code",
      "source": [
        "sc = pyspark.SparkContext()\n",
        "spark = SparkSession.builder.getOrCreate()"
      ],
      "metadata": {
        "id": "_AhAQXMmQgQX"
      },
      "execution_count": null,
      "outputs": []
    },
    {
      "cell_type": "code",
      "source": [
        "traffic_df = spark.read.format('com.databricks.spark.csv')\\\n",
        "                  .options(header='true', inferschema='true')\\\n",
        "                  .load('2022년 11월 서울시 차량통행속도.csv')"
      ],
      "metadata": {
        "id": "pjmrEJZbCmOP"
      },
      "execution_count": null,
      "outputs": []
    },
    {
      "cell_type": "code",
      "source": [
        "traffic_df.show()"
      ],
      "metadata": {
        "colab": {
          "base_uri": "https://localhost:8080/"
        },
        "id": "p9aZCeadDu57",
        "outputId": "7a48d7cd-952d-4378-b60e-43ac514dd6ab"
      },
      "execution_count": null,
      "outputs": [
        {
          "output_type": "stream",
          "name": "stdout",
          "text": [
            "+--------+----+----------+----------+------------------+------------------+----+----+------+------------+-------------+--------+-----+-----+-----+-----+-----+-----+-----+-----+-----+-----+-----+-----+-----+-----+-----+-----+-----+-----+-----+-----+-----+-----+-----+-----+\n",
            "|    일자|요일|    도로명|링크아이디|            시점명|            종점명|방향|거리|차선수|기능유형구분|도심/외곽구분|권역구분| 01시| 02시| 03시| 04시| 05시| 06시| 07시| 08시| 09시| 10시| 11시| 12시| 13시| 14시| 15시| 16시| 17시| 18시| 19시| 20시| 21시| 22시| 23시| 24시|\n",
            "+--------+----+----------+----------+------------------+------------------+----+----+------+------------+-------------+--------+-----+-----+-----+-----+-----+-----+-----+-----+-----+-----+-----+-----+-----+-----+-----+-----+-----+-----+-----+-----+-----+-----+-----+-----+\n",
            "|20221101|  화|    4.19로|1080012200|    아카데미하우스|      국립4.19묘지|상행|1179|     1|보조간선도로|         외곽|  강북구|44.98|47.72| 49.6|47.14|58.75|48.03|37.24|38.44|31.08|27.96|29.73|37.68|31.67|30.96| 32.1|34.32|47.37|38.32|33.06|36.55|30.35|52.15|54.91| 48.4|\n",
            "|20221101|  화|    4.19로|1080012800|      국립4.19묘지|  국립4.19묘지입구|상행| 352|     2|보조간선도로|         외곽|  강북구|16.79|19.52|21.23| 16.9|18.62|18.08|13.88|16.34|11.43|18.61|16.21|14.05|12.77|12.82|11.55|12.38|13.82|12.58|  9.7|14.43|13.38|19.27|19.01|19.21|\n",
            "|20221101|  화|    4.19로|1080012700|  국립4.19묘지입구|      국립4.19묘지|하행| 354|     2|보조간선도로|         외곽|  강북구|23.28|27.17|23.58|29.42|23.98| 19.4|20.43|26.64|19.52|18.65|21.39|18.21|16.56|16.77| 17.9|21.84|18.65|19.92| 16.6|21.75|24.34|21.87|19.53|22.43|\n",
            "|20221101|  화|    4.19로|1080012100|      국립4.19묘지|    아카데미하우스|하행|1190|     1|보조간선도로|         외곽|  강북구|48.56|40.97|44.93|66.25|87.24|51.61|46.12|37.36|48.37|44.88|51.09|58.75|41.55|42.89|43.59|44.07|62.28|61.14|47.81|50.33|46.09|49.38| 51.1|39.82|\n",
            "|20221101|  화|    가락로|1230024700|          방이초교|      방이동고분군|상행| 844|     1|    기타도로|         외곽|  송파구|18.45|18.89|21.72|30.26|26.84| 20.3| 18.2|14.35|14.22|13.94|15.83|15.37|19.83|13.89|12.99|15.19|19.41|13.63|14.14|11.92|20.96|16.99|16.36|13.49|\n",
            "|20221101|  화|    가락로|1230019500|      방이동고분군|    송파한양아파트|상행| 416|     1|    기타도로|         외곽|  송파구|27.54|31.86|33.95|33.64|33.98|28.71|27.65|18.36|16.25|19.75|20.21|18.07|20.29|16.15|16.69|17.71|16.48|17.56|15.76| 17.5|17.64|16.98|20.48|23.85|\n",
            "|20221101|  화|    가락로|1230016300|    송파한양아파트|        송파사거리|상행| 478|     1|    기타도로|         외곽|  송파구|28.79|27.26| 28.5|26.13|30.99|29.82|28.37| 22.0|14.89|14.85|15.99|16.15| 16.1| 16.5|15.21|18.55|19.35|15.51|15.21|15.93|15.61|17.28|20.64|25.18|\n",
            "|20221101|  화|    가락로|1230014100|        송파사거리|          배명고교|상행|1288|     1|    기타도로|         외곽|  송파구|25.72|28.28|28.77|26.37|27.06|25.81| 17.1| 20.4|20.35|16.15|21.67|19.35|17.62|19.02|18.36|17.83|16.68|17.32|17.42|16.97|19.92|18.31|20.21| 19.0|\n",
            "|20221101|  화|    가락로|1230014200|          배명고교|        송파사거리|하행|1288|     1|    기타도로|         외곽|  송파구|24.24|26.46|25.02|33.81|27.58|26.66|19.84|23.67|18.18| 18.5|17.26|14.99|17.02|18.86|16.86|15.91|13.33|15.87|13.26|15.55|13.99|16.15| 18.6| 22.7|\n",
            "|20221101|  화|    가락로|1230016400|        송파사거리|    송파한양아파트|하행| 484|     1|    기타도로|         외곽|  송파구|21.42|31.04|32.55|33.82|33.49|26.11|21.19|18.12|17.75|19.59|18.33|18.48| 19.5|16.72| 17.6|16.67|16.47|14.78|12.96|15.31|17.97|18.71| 21.2|23.15|\n",
            "|20221101|  화|    가락로|1230019600|    송파한양아파트|      방이동고분군|하행| 417|     1|    기타도로|         외곽|  송파구|21.39|25.39|22.11|25.84|21.77| 23.1|14.08|15.76|14.04|10.33|13.05|13.25|13.43|10.65|12.03|12.73|11.67| 14.1| 11.3|10.41| 13.6|12.74|16.21|21.27|\n",
            "|20221101|  화|    가락로|1230024800|      방이동고분군|          방이초교|하행| 845|     1|    기타도로|         외곽|  송파구|21.02|24.79| 26.3|28.32| 27.4|21.87|20.91|21.97|19.29|16.58|16.19|22.01|20.35|18.37| 18.3|17.53|17.99|18.79|15.64|16.77|18.94| 17.6| 18.5|20.72|\n",
            "|20221101|  화|가로공원로|1140033400|가로공원로부천시계|        신월사거리|상행| 586|     2|보조간선도로|         외곽|  양천구|18.54|18.22|21.36|22.24|20.38|19.67|16.49| 9.86|10.08|14.53|12.81|16.19|17.92|16.92|19.14|15.75| 12.9|13.38|  9.5|14.01| 18.5|22.08|26.67|20.29|\n",
            "|20221101|  화|가로공원로|1140034800|        신월사거리|        월정초교앞|상행| 530|     3|보조간선도로|         외곽|  양천구|26.98|25.72|28.82|26.42|24.45|24.12|20.61|23.53|24.13|20.87|21.83|23.24|21.42|24.17|22.48|21.51|25.27|21.58|20.14|25.91|25.38|23.87|23.89|23.76|\n",
            "|20221101|  화|가로공원로|1150008900|        월정초교앞|    강서나누리병원|상행| 250|     3|보조간선도로|         외곽|  양천구|17.95|17.02|21.35|24.67|22.94| 17.0|18.73|21.37|14.54|18.01|26.48|20.32|17.96|15.14|21.88| 19.1|21.65|20.94|22.84|21.81|21.27|17.79|17.99|23.42|\n",
            "|20221101|  화|가로공원로|1150009100|    강서나누리병원|      화곡터널북단|상행| 517|     3|보조간선도로|         외곽|  강서구|25.47|30.61|32.61|30.53| 19.6|24.19|22.43|20.49|20.68|18.26|21.17|19.97|18.88|14.88|21.63|22.93|17.68|18.03|14.53|19.32|21.28|20.27|19.76|24.81|\n",
            "|20221101|  화|가로공원로|1150009000|      화곡터널북단|    강서나누리병원|하행| 513|     3|보조간선도로|         외곽|  강서구|23.93|28.61| 29.2|27.55|23.96|24.63|22.08|22.56|22.71|22.29|23.61|19.39| 20.3|16.24|19.12|20.28| 21.2|20.65|22.21|25.31|25.07|22.93|23.34|22.19|\n",
            "|20221101|  화|가로공원로|1150008800|    강서나누리병원|        월정초교앞|하행| 250|     3|보조간선도로|         외곽|  강서구|27.55|41.49| 34.6|37.11|35.42|28.31|26.16|28.33|26.05|24.54|30.22| 27.4|22.38|25.99|28.38|27.62|27.07|29.21| 29.0|28.08|27.45|28.48|29.68|31.85|\n",
            "|20221101|  화|가로공원로|1140034700|        월정초교앞|        신월사거리|하행| 530|     3|보조간선도로|         외곽|  양천구|20.68|23.78|23.97|17.65|22.97|24.14|19.27|22.28|20.53|19.78|20.39| 19.8|15.26|19.23| 21.5|19.89|22.66|19.18|16.95|22.06|20.09|24.88|22.81|19.82|\n",
            "|20221101|  화|가로공원로|1140033300|        신월사거리|가로공원로부천시계|하행| 586|     2|보조간선도로|         외곽|  양천구|28.17|20.92| 19.0|21.75|20.83|23.25|19.83|19.67| 17.5|20.08|20.67|22.25|20.67|21.17|20.08|17.83| 18.5|19.17|17.75| 20.0| 21.0|21.17|24.25|21.25|\n",
            "+--------+----+----------+----------+------------------+------------------+----+----+------+------------+-------------+--------+-----+-----+-----+-----+-----+-----+-----+-----+-----+-----+-----+-----+-----+-----+-----+-----+-----+-----+-----+-----+-----+-----+-----+-----+\n",
            "only showing top 20 rows\n",
            "\n"
          ]
        }
      ]
    },
    {
      "cell_type": "code",
      "source": [
        "traffic_df.count()"
      ],
      "metadata": {
        "colab": {
          "base_uri": "https://localhost:8080/"
        },
        "id": "KK4Mxy2lD8fh",
        "outputId": "52071e72-7968-4ab0-aa15-0fbdfa11d4d9"
      },
      "execution_count": null,
      "outputs": [
        {
          "output_type": "execute_result",
          "data": {
            "text/plain": [
              "125098"
            ]
          },
          "metadata": {},
          "execution_count": 8
        }
      ]
    },
    {
      "cell_type": "code",
      "source": [
        "traffic_df.printSchema()"
      ],
      "metadata": {
        "colab": {
          "base_uri": "https://localhost:8080/"
        },
        "id": "0Zkrt2dNECI2",
        "outputId": "89256a19-db60-4693-f2a8-2e8873e5a83b"
      },
      "execution_count": null,
      "outputs": [
        {
          "output_type": "stream",
          "name": "stdout",
          "text": [
            "root\n",
            " |-- 일자: integer (nullable = true)\n",
            " |-- 요일: string (nullable = true)\n",
            " |-- 도로명: string (nullable = true)\n",
            " |-- 링크아이디: long (nullable = true)\n",
            " |-- 시점명: string (nullable = true)\n",
            " |-- 종점명: string (nullable = true)\n",
            " |-- 방향: string (nullable = true)\n",
            " |-- 거리: integer (nullable = true)\n",
            " |-- 차선수: integer (nullable = true)\n",
            " |-- 기능유형구분: string (nullable = true)\n",
            " |-- 도심/외곽구분: string (nullable = true)\n",
            " |-- 권역구분: string (nullable = true)\n",
            " |-- 01시: double (nullable = true)\n",
            " |-- 02시: double (nullable = true)\n",
            " |-- 03시: double (nullable = true)\n",
            " |-- 04시: double (nullable = true)\n",
            " |-- 05시: double (nullable = true)\n",
            " |-- 06시: double (nullable = true)\n",
            " |-- 07시: double (nullable = true)\n",
            " |-- 08시: double (nullable = true)\n",
            " |-- 09시: double (nullable = true)\n",
            " |-- 10시: double (nullable = true)\n",
            " |-- 11시: double (nullable = true)\n",
            " |-- 12시: double (nullable = true)\n",
            " |-- 13시: double (nullable = true)\n",
            " |-- 14시: double (nullable = true)\n",
            " |-- 15시: double (nullable = true)\n",
            " |-- 16시: double (nullable = true)\n",
            " |-- 17시: double (nullable = true)\n",
            " |-- 18시: double (nullable = true)\n",
            " |-- 19시: double (nullable = true)\n",
            " |-- 20시: double (nullable = true)\n",
            " |-- 21시: double (nullable = true)\n",
            " |-- 22시: double (nullable = true)\n",
            " |-- 23시: double (nullable = true)\n",
            " |-- 24시: double (nullable = true)\n",
            "\n"
          ]
        }
      ]
    },
    {
      "cell_type": "code",
      "source": [
        "from google.colab import drive\n",
        "drive.mount('/content/drive/')"
      ],
      "metadata": {
        "colab": {
          "base_uri": "https://localhost:8080/"
        },
        "id": "GApC3vmyOmml",
        "outputId": "1db65a12-0d53-4d9d-b804-3cece4a9bbd9"
      },
      "execution_count": null,
      "outputs": [
        {
          "output_type": "stream",
          "name": "stdout",
          "text": [
            "Mounted at /content/drive/\n"
          ]
        }
      ]
    },
    {
      "cell_type": "code",
      "source": [
        "weather_2015_df = spark.read.format('com.databricks.spark.csv')\\\n",
        "                    .options(header='true', inferschema='true')\\\n",
        "                    .load(\"/content/drive/MyDrive/빅처응 팀플/2015 기상 데이터.csv\", encoding='cp949')\n",
        "weather_2016_df = spark.read.format('com.databricks.spark.csv')\\\n",
        "                    .options(header='true', inferschema='true')\\\n",
        "                    .load(\"/content/drive/MyDrive/빅처응 팀플/2016 기상 데이터.csv\", encoding='cp949')\n",
        "weather_2017_df = spark.read.format('com.databricks.spark.csv')\\\n",
        "                    .options(header='true', inferschema='true')\\\n",
        "                    .load(\"/content/drive/MyDrive/빅처응 팀플/2017 기상 데이터.csv\", encoding='cp949')\n",
        "weather_2018_df = spark.read.format('com.databricks.spark.csv')\\\n",
        "                    .options(header='true', inferschema='true')\\\n",
        "                    .load(\"/content/drive/MyDrive/빅처응 팀플/2018 기상 데이터.csv\", encoding='cp949')\n",
        "weather_2019_df = spark.read.format('com.databricks.spark.csv')\\\n",
        "                    .options(header='true', inferschema='true')\\\n",
        "                    .load(\"/content/drive/MyDrive/빅처응 팀플/2019 기상 데이터.csv\", encoding='cp949')\n",
        "weather_2020_df = spark.read.format('com.databricks.spark.csv')\\\n",
        "                    .options(header='true', inferschema='true')\\\n",
        "                    .load(\"/content/drive/MyDrive/빅처응 팀플/2020 기상 데이터.csv\", encoding='cp949')\n",
        "weather_2021_df = spark.read.format('com.databricks.spark.csv')\\\n",
        "                    .options(header='true', inferschema='true')\\\n",
        "                    .load(\"/content/drive/MyDrive/빅처응 팀플/2021 기상 데이터.csv\", encoding='cp949')\n"
      ],
      "metadata": {
        "id": "uyB2t0EbQgTO"
      },
      "execution_count": null,
      "outputs": []
    },
    {
      "cell_type": "code",
      "source": [
        "weather_df = weather_2015_df.union(weather_2016_df)\n",
        "weather_df = weather_df.union(weather_2017_df)\n",
        "weather_df = weather_df.union(weather_2018_df)\n",
        "weather_df = weather_df.union(weather_2019_df)\n",
        "weather_df = weather_df.union(weather_2020_df)\n",
        "weather_df = weather_df.union(weather_2021_df)"
      ],
      "metadata": {
        "id": "zyTN4jhPSGJs"
      },
      "execution_count": null,
      "outputs": []
    },
    {
      "cell_type": "code",
      "source": [
        "weather_df.show(5)"
      ],
      "metadata": {
        "colab": {
          "base_uri": "https://localhost:8080/"
        },
        "id": "--A-yOucS_JF",
        "outputId": "6f923d08-3956-4f29-b8d3-7b04b9aa26bb"
      },
      "execution_count": null,
      "outputs": [
        {
          "output_type": "stream",
          "name": "stdout",
          "text": [
            "+----+------+-------------------+--------+-------------+----------+---------------+---------+-------------+------------+-------------+-------+-------------+-----------+--------------+-------------+-----------------+-------------+-----------------+--------+-------------+-----------+-------------+--------+---------------+--------------+------------------+--------------+---------------+---------+----------------------+----------------+------------+-----------------+----------------+-----------------+-----------------+-----------------+\n",
            "|지점|지점명|               일시|기온(°C)|기온 QC플래그|강수량(mm)|강수량 QC플래그|풍속(m/s)|풍속 QC플래그|풍향(16방위)|풍향 QC플래그|습도(%)|습도 QC플래그|증기압(hPa)|이슬점온도(°C)|현지기압(hPa)|현지기압 QC플래그|해면기압(hPa)|해면기압 QC플래그|일조(hr)|일조 QC플래그|일사(MJ/m2)|일사 QC플래그|적설(cm)|3시간신적설(cm)|전운량(10분위)|중하층운량(10분위)|운형(운형약어)|최저운고(100m )|시정(10m)|지면상태(지면상태코드)|현상번호(국내식)|지면온도(°C)|지면온도 QC플래그|5cm 지중온도(°C)|10cm 지중온도(°C)|20cm 지중온도(°C)|30cm 지중온도(°C)|\n",
            "+----+------+-------------------+--------+-------------+----------+---------------+---------+-------------+------------+-------------+-------+-------------+-----------+--------------+-------------+-----------------+-------------+-----------------+--------+-------------+-----------+-------------+--------+---------------+--------------+------------------+--------------+---------------+---------+----------------------+----------------+------------+-----------------+----------------+-----------------+-----------------+-----------------+\n",
            "| 108|  서울|2015-01-01 01:00:00|    -7.4|            0|      null|           null|      4.7|            0|         290|            0|   33.0|            0|        1.2|         -20.9|       1011.8|                0|       1023.0|                0|    null|            9|       null|            9|    null|           null|          null|              null|          null|           null|     null|                  null|            null|        -4.5|                0|            -3.2|             -1.3|              0.1|              0.8|\n",
            "| 108|  서울|2015-01-01 02:00:00|    -8.0|            0|      null|           null|      4.5|            0|         290|            0|   35.0|            0|        1.2|         -20.8|       1011.7|                0|       1022.9|                0|    null|            9|       null|            9|    null|           null|          null|              null|          null|           null|     null|                  null|            null|        -5.1|                0|            -3.7|             -1.7|              0.0|              0.7|\n",
            "| 108|  서울|2015-01-01 03:00:00|    -8.4|            0|      null|           null|      3.8|            0|         290|            0|   37.0|            0|        1.2|         -20.5|       1012.1|                0|       1023.3|                0|    null|            9|       null|            9|    null|           null|             0|                 0|          null|           null|     2000|                     4|            null|        -5.5|                0|            -4.0|             -1.9|              0.0|              0.7|\n",
            "| 108|  서울|2015-01-01 04:00:00|    -8.8|            0|      null|           null|      4.9|            0|         290|            0|   35.0|            0|        1.1|         -21.5|       1012.3|                0|       1023.6|                0|    null|            9|       null|            9|    null|           null|             0|                 0|          null|           null|     2000|                  null|            null|        -5.9|                0|            -4.4|             -2.2|              0.0|              0.7|\n",
            "| 108|  서울|2015-01-01 05:00:00|    -9.1|            0|      null|           null|      5.7|            0|         290|            0|   35.0|            0|        1.1|         -21.7|       1011.8|                0|       1023.1|                0|    null|            9|       null|            9|    null|           null|             0|                 0|          null|           null|     1800|                  null|            null|        -6.3|                0|            -4.7|             -2.4|              0.0|              0.7|\n",
            "+----+------+-------------------+--------+-------------+----------+---------------+---------+-------------+------------+-------------+-------+-------------+-----------+--------------+-------------+-----------------+-------------+-----------------+--------+-------------+-----------+-------------+--------+---------------+--------------+------------------+--------------+---------------+---------+----------------------+----------------+------------+-----------------+----------------+-----------------+-----------------+-----------------+\n",
            "only showing top 5 rows\n",
            "\n"
          ]
        }
      ]
    },
    {
      "cell_type": "code",
      "source": [
        "columns_to_drop = [\"지점\", \"지점명\", \"기온 QC플래그\", \"강수량 QC플래그\", \"풍속 QC플래그\", \"풍향 QC플래그\", \"습도 QC플래그\", \"현지기압(hPa)\",\"현지기압 QC플래그\", \"해면기압 QC플래그\", \"일조 QC플래그\", \"일사 QC플래그\", \"3시간신적설(cm)\",\n",
        "                   \"중하층운량(10분위)\", \"운형(운형약어)\", \"최저운고(100m )\", \"지면상태(지면상태코드)\", \"현상번호(국내식)\", \"지면온도 QC플래그\", \"10cm 지중온도(°C)\", \"20cm 지중온도(°C)\", \"30cm 지중온도(°C)\", \"일조(hr)\"]\n",
        "new_weather_df = weather_df.drop(*columns_to_drop)"
      ],
      "metadata": {
        "id": "U-Sem1LzTIoJ"
      },
      "execution_count": null,
      "outputs": []
    },
    {
      "cell_type": "code",
      "source": [
        "new_weather_df.show(5)"
      ],
      "metadata": {
        "colab": {
          "base_uri": "https://localhost:8080/"
        },
        "id": "qWRGlYClTIqw",
        "outputId": "d44b68e3-5bac-4694-ddcb-0c18e56a6571"
      },
      "execution_count": null,
      "outputs": [
        {
          "output_type": "stream",
          "name": "stdout",
          "text": [
            "+-------------------+--------+----------+---------+------------+-------+-----------+--------------+-------------+-----------+--------+--------------+---------+------------+----------------+\n",
            "|               일시|기온(°C)|강수량(mm)|풍속(m/s)|풍향(16방위)|습도(%)|증기압(hPa)|이슬점온도(°C)|해면기압(hPa)|일사(MJ/m2)|적설(cm)|전운량(10분위)|시정(10m)|지면온도(°C)|5cm 지중온도(°C)|\n",
            "+-------------------+--------+----------+---------+------------+-------+-----------+--------------+-------------+-----------+--------+--------------+---------+------------+----------------+\n",
            "|2015-01-01 01:00:00|    -7.4|      null|      4.7|         290|   33.0|        1.2|         -20.9|       1023.0|       null|    null|          null|     null|        -4.5|            -3.2|\n",
            "|2015-01-01 02:00:00|    -8.0|      null|      4.5|         290|   35.0|        1.2|         -20.8|       1022.9|       null|    null|          null|     null|        -5.1|            -3.7|\n",
            "|2015-01-01 03:00:00|    -8.4|      null|      3.8|         290|   37.0|        1.2|         -20.5|       1023.3|       null|    null|             0|     2000|        -5.5|            -4.0|\n",
            "|2015-01-01 04:00:00|    -8.8|      null|      4.9|         290|   35.0|        1.1|         -21.5|       1023.6|       null|    null|             0|     2000|        -5.9|            -4.4|\n",
            "|2015-01-01 05:00:00|    -9.1|      null|      5.7|         290|   35.0|        1.1|         -21.7|       1023.1|       null|    null|             0|     1800|        -6.3|            -4.7|\n",
            "+-------------------+--------+----------+---------+------------+-------+-----------+--------------+-------------+-----------+--------+--------------+---------+------------+----------------+\n",
            "only showing top 5 rows\n",
            "\n"
          ]
        }
      ]
    },
    {
      "cell_type": "code",
      "source": [
        "new_weather_df.count()"
      ],
      "metadata": {
        "colab": {
          "base_uri": "https://localhost:8080/"
        },
        "id": "PtTaCG9HdXtM",
        "outputId": "25d25942-4cd8-4dbf-ba16-6914d17dca89"
      },
      "execution_count": null,
      "outputs": [
        {
          "output_type": "execute_result",
          "data": {
            "text/plain": [
              "61201"
            ]
          },
          "metadata": {},
          "execution_count": 18
        }
      ]
    },
    {
      "cell_type": "code",
      "source": [
        "new_weather_df.printSchema()"
      ],
      "metadata": {
        "colab": {
          "base_uri": "https://localhost:8080/"
        },
        "id": "z3cgmzAVTItT",
        "outputId": "415bf733-6b09-4f31-d5e9-6e5bb93fdf33"
      },
      "execution_count": null,
      "outputs": [
        {
          "output_type": "stream",
          "name": "stdout",
          "text": [
            "root\n",
            " |-- 일시: timestamp (nullable = true)\n",
            " |-- 기온(°C): double (nullable = true)\n",
            " |-- 강수량(mm): double (nullable = true)\n",
            " |-- 풍속(m/s): double (nullable = true)\n",
            " |-- 풍향(16방위): integer (nullable = true)\n",
            " |-- 습도(%): double (nullable = true)\n",
            " |-- 증기압(hPa): double (nullable = true)\n",
            " |-- 이슬점온도(°C): double (nullable = true)\n",
            " |-- 해면기압(hPa): double (nullable = true)\n",
            " |-- 일사(MJ/m2): double (nullable = true)\n",
            " |-- 적설(cm): double (nullable = true)\n",
            " |-- 전운량(10분위): integer (nullable = true)\n",
            " |-- 시정(10m): integer (nullable = true)\n",
            " |-- 지면온도(°C): double (nullable = true)\n",
            " |-- 5cm 지중온도(°C): double (nullable = true)\n",
            "\n"
          ]
        }
      ]
    },
    {
      "cell_type": "code",
      "source": [
        "from pyspark.sql.functions import isnan, when, count, col, isnull\n",
        "\n",
        "new_weather_df.select([count(when(isnull(c), c)).alias(c) for c in new_weather_df.columns]).show()    #column별 결측치 개수 확인"
      ],
      "metadata": {
        "colab": {
          "base_uri": "https://localhost:8080/"
        },
        "id": "xJYWmtEOc0xm",
        "outputId": "9861054f-21aa-4ba9-de42-e360d868e795"
      },
      "execution_count": null,
      "outputs": [
        {
          "output_type": "stream",
          "name": "stdout",
          "text": [
            "+----+--------+----------+---------+------------+-------+-----------+--------------+-------------+-----------+--------+--------------+---------+------------+----------------+\n",
            "|일시|기온(°C)|강수량(mm)|풍속(m/s)|풍향(16방위)|습도(%)|증기압(hPa)|이슬점온도(°C)|해면기압(hPa)|일사(MJ/m2)|적설(cm)|전운량(10분위)|시정(10m)|지면온도(°C)|5cm 지중온도(°C)|\n",
            "+----+--------+----------+---------+------------+-------+-----------+--------------+-------------+-----------+--------+--------------+---------+------------+----------------+\n",
            "|   0|       7|     55152|       56|          69|     35|          7|            10|           17|      27793|   59625|          7095|      461|          66|              71|\n",
            "+----+--------+----------+---------+------------+-------+-----------+--------------+-------------+-----------+--------+--------------+---------+------------+----------------+\n",
            "\n"
          ]
        }
      ]
    },
    {
      "cell_type": "code",
      "source": [
        "df = new_weather_df"
      ],
      "metadata": {
        "id": "iEjPCjTkdtnK"
      },
      "execution_count": null,
      "outputs": []
    },
    {
      "cell_type": "markdown",
      "source": [
        "**결측치 처리**"
      ],
      "metadata": {
        "id": "x_AULg7nKnlM"
      }
    },
    {
      "cell_type": "code",
      "source": [
        "df = df.na.fill(-1, subset=[\"강수량(mm)\"])  #강수량\n",
        "df = df.na.fill(-1, subset=[\"적설(cm)\"])  #적설\n",
        "df = df.na.fill(0, subset=[\"일사(MJ/m2)\"])  #일사\n",
        "df.show(5)"
      ],
      "metadata": {
        "colab": {
          "base_uri": "https://localhost:8080/"
        },
        "id": "hmJk6voYE0qr",
        "outputId": "2c756d1e-c8ef-4ec9-9f10-30003d6e2bd2"
      },
      "execution_count": null,
      "outputs": [
        {
          "output_type": "stream",
          "name": "stdout",
          "text": [
            "+-------------------+--------+----------+---------+------------+-------+-----------+--------------+-------------+-----------+--------+--------------+---------+------------+----------------+\n",
            "|               일시|기온(°C)|강수량(mm)|풍속(m/s)|풍향(16방위)|습도(%)|증기압(hPa)|이슬점온도(°C)|해면기압(hPa)|일사(MJ/m2)|적설(cm)|전운량(10분위)|시정(10m)|지면온도(°C)|5cm 지중온도(°C)|\n",
            "+-------------------+--------+----------+---------+------------+-------+-----------+--------------+-------------+-----------+--------+--------------+---------+------------+----------------+\n",
            "|2015-01-01 01:00:00|    -7.4|      -1.0|      4.7|         290|   33.0|        1.2|         -20.9|       1023.0|        0.0|    -1.0|          null|     null|        -4.5|            -3.2|\n",
            "|2015-01-01 02:00:00|    -8.0|      -1.0|      4.5|         290|   35.0|        1.2|         -20.8|       1022.9|        0.0|    -1.0|          null|     null|        -5.1|            -3.7|\n",
            "|2015-01-01 03:00:00|    -8.4|      -1.0|      3.8|         290|   37.0|        1.2|         -20.5|       1023.3|        0.0|    -1.0|             0|     2000|        -5.5|            -4.0|\n",
            "|2015-01-01 04:00:00|    -8.8|      -1.0|      4.9|         290|   35.0|        1.1|         -21.5|       1023.6|        0.0|    -1.0|             0|     2000|        -5.9|            -4.4|\n",
            "|2015-01-01 05:00:00|    -9.1|      -1.0|      5.7|         290|   35.0|        1.1|         -21.7|       1023.1|        0.0|    -1.0|             0|     1800|        -6.3|            -4.7|\n",
            "+-------------------+--------+----------+---------+------------+-------+-----------+--------------+-------------+-----------+--------+--------------+---------+------------+----------------+\n",
            "only showing top 5 rows\n",
            "\n"
          ]
        }
      ]
    },
    {
      "cell_type": "code",
      "source": [
        "df = df.na.drop(subset=[\"기온(°C)\"])\n",
        "df = df.na.drop(subset=[\"풍속(m/s)\"])\n",
        "df = df.na.drop(subset=[\"풍향(16방위)\"])\n",
        "df = df.na.drop(subset=[\"습도(%)\"])\n",
        "df = df.na.drop(subset=[\"증기압(hPa)\"])\n",
        "df = df.na.drop(subset=[\"이슬점온도(°C)\"])\n",
        "df = df.na.drop(subset=[\"시정(10m)\"])\n",
        "df = df.na.drop(subset=[\"지면온도(°C)\"])\n",
        "df = df.na.drop(subset=[\"5cm 지중온도(°C)\"])\n",
        "df = df.na.drop(subset=[\"해면기압(hPa)\"])"
      ],
      "metadata": {
        "id": "6RTYMEqaE0wR"
      },
      "execution_count": null,
      "outputs": []
    },
    {
      "cell_type": "code",
      "source": [
        "df.select([count(when(isnull(c), c)).alias(c) for c in df.columns]).show()"
      ],
      "metadata": {
        "colab": {
          "base_uri": "https://localhost:8080/"
        },
        "id": "BVqXkDzhKssm",
        "outputId": "9ddf514e-161c-4a14-f896-7e481ee529be"
      },
      "execution_count": null,
      "outputs": [
        {
          "output_type": "stream",
          "name": "stdout",
          "text": [
            "+----+--------+----------+---------+------------+-------+-----------+--------------+-------------+-----------+--------+--------------+---------+------------+----------------+\n",
            "|일시|기온(°C)|강수량(mm)|풍속(m/s)|풍향(16방위)|습도(%)|증기압(hPa)|이슬점온도(°C)|해면기압(hPa)|일사(MJ/m2)|적설(cm)|전운량(10분위)|시정(10m)|지면온도(°C)|5cm 지중온도(°C)|\n",
            "+----+--------+----------+---------+------------+-------+-----------+--------------+-------------+-----------+--------+--------------+---------+------------+----------------+\n",
            "|   0|       0|         0|        0|           0|      0|          0|             0|            0|          0|       0|          6589|        0|           0|               0|\n",
            "+----+--------+----------+---------+------------+-------+-----------+--------------+-------------+-----------+--------+--------------+---------+------------+----------------+\n",
            "\n"
          ]
        }
      ]
    },
    {
      "cell_type": "code",
      "source": [
        "from pyspark.sql import Window\n",
        "from pyspark.sql import functions as F\n",
        "from pyspark.sql.functions import last, sys\n",
        "\n",
        "window_last = Window.orderBy(\"일시\")\n",
        "df2 = df.withColumn(\"new전운량\", F.last(\"전운량(10분위)\", ignorenulls=True).over(window_last))     #바로 이전 데이터로 매핑"
      ],
      "metadata": {
        "id": "qRVMMWe4Ks3V"
      },
      "execution_count": null,
      "outputs": []
    },
    {
      "cell_type": "code",
      "source": [
        "df2.select([count(when(isnull(c), c)).alias(c) for c in df2.columns]).show()"
      ],
      "metadata": {
        "colab": {
          "base_uri": "https://localhost:8080/"
        },
        "id": "IdU722rLKs6I",
        "outputId": "aea33864-4ff5-42c4-b5f6-b55362a2904a"
      },
      "execution_count": null,
      "outputs": [
        {
          "output_type": "stream",
          "name": "stdout",
          "text": [
            "+----+--------+----------+---------+------------+-------+-----------+--------------+-------------+-----------+--------+--------------+---------+------------+----------------+---------+\n",
            "|일시|기온(°C)|강수량(mm)|풍속(m/s)|풍향(16방위)|습도(%)|증기압(hPa)|이슬점온도(°C)|해면기압(hPa)|일사(MJ/m2)|적설(cm)|전운량(10분위)|시정(10m)|지면온도(°C)|5cm 지중온도(°C)|new전운량|\n",
            "+----+--------+----------+---------+------------+-------+-----------+--------------+-------------+-----------+--------+--------------+---------+------------+----------------+---------+\n",
            "|   0|       0|         0|        0|           0|      0|          0|             0|            0|          0|       0|          6589|        0|           0|               0|        0|\n",
            "+----+--------+----------+---------+------------+-------+-----------+--------------+-------------+-----------+--------+--------------+---------+------------+----------------+---------+\n",
            "\n"
          ]
        }
      ]
    },
    {
      "cell_type": "code",
      "source": [
        "df2 = df2.na.drop(subset = [\"전운량(10분위)\"])"
      ],
      "metadata": {
        "id": "bZ5H9sZ3ZIU9"
      },
      "execution_count": null,
      "outputs": []
    },
    {
      "cell_type": "code",
      "source": [
        "df2.show(5)"
      ],
      "metadata": {
        "colab": {
          "base_uri": "https://localhost:8080/"
        },
        "id": "VGQLjOthE01P",
        "outputId": "361eea37-8c81-41f5-bd1d-d3f21d808df5"
      },
      "execution_count": null,
      "outputs": [
        {
          "output_type": "stream",
          "name": "stdout",
          "text": [
            "+-------------------+--------+----------+---------+------------+-------+-----------+--------------+-------------+-----------+--------+--------------+---------+------------+----------------+---------+\n",
            "|               일시|기온(°C)|강수량(mm)|풍속(m/s)|풍향(16방위)|습도(%)|증기압(hPa)|이슬점온도(°C)|해면기압(hPa)|일사(MJ/m2)|적설(cm)|전운량(10분위)|시정(10m)|지면온도(°C)|5cm 지중온도(°C)|new전운량|\n",
            "+-------------------+--------+----------+---------+------------+-------+-----------+--------------+-------------+-----------+--------+--------------+---------+------------+----------------+---------+\n",
            "|2015-01-01 03:00:00|    -8.4|      -1.0|      3.8|         290|   37.0|        1.2|         -20.5|       1023.3|        0.0|    -1.0|             0|     2000|        -5.5|            -4.0|        0|\n",
            "|2015-01-01 04:00:00|    -8.8|      -1.0|      4.9|         290|   35.0|        1.1|         -21.5|       1023.6|        0.0|    -1.0|             0|     2000|        -5.9|            -4.4|        0|\n",
            "|2015-01-01 05:00:00|    -9.1|      -1.0|      5.7|         290|   35.0|        1.1|         -21.7|       1023.1|        0.0|    -1.0|             0|     1800|        -6.3|            -4.7|        0|\n",
            "|2015-01-01 06:00:00|    -9.3|      -1.0|      5.3|         290|   36.0|        1.1|         -21.6|       1023.4|        0.0|    -1.0|             0|     1600|        -6.6|            -5.0|        0|\n",
            "|2015-01-01 07:00:00|    -9.5|      -1.0|      4.5|         290|   38.0|        1.1|         -21.2|       1023.9|        0.0|    -1.0|             0|     1600|        -6.8|            -5.2|        0|\n",
            "+-------------------+--------+----------+---------+------------+-------+-----------+--------------+-------------+-----------+--------+--------------+---------+------------+----------------+---------+\n",
            "only showing top 5 rows\n",
            "\n"
          ]
        }
      ]
    },
    {
      "cell_type": "markdown",
      "source": [
        "**K-means**"
      ],
      "metadata": {
        "id": "LsH_BQAoaESh"
      }
    },
    {
      "cell_type": "code",
      "source": [
        "from pyspark.ml.feature import VectorAssembler\n",
        "\n",
        "assembler = VectorAssembler(inputCols=['기온(°C)',\n",
        "                                       '강수량(mm)',\n",
        "                                       '풍속(m/s)',\n",
        "                                       '풍향(16방위)',\n",
        "                                       '습도(%)',\n",
        "                                       '증기압(hPa)',\n",
        "                                       '이슬점온도(°C)',\n",
        "                                       '해면기압(hPa)',\n",
        "                                       '일사(MJ/m2)',\n",
        "                                       '적설(cm)',\n",
        "                                       '전운량(10분위)',\n",
        "                                       '시정(10m)',\n",
        "                                       '지면온도(°C)',\n",
        "                                       '5cm 지중온도(°C)',\n",
        "                                       'new전운량'], outputCol = 'features')\n",
        "\n",
        "\n",
        "df2 = assembler.transform(df2)\n",
        "df2.select(\"features\").show(5, False)"
      ],
      "metadata": {
        "colab": {
          "base_uri": "https://localhost:8080/"
        },
        "id": "Lv9g6FTEEz_M",
        "outputId": "4900291a-c108-4e8c-b872-b5ff447e8b4e"
      },
      "execution_count": null,
      "outputs": [
        {
          "output_type": "stream",
          "name": "stdout",
          "text": [
            "+-----------------------------------------------------------------------------+\n",
            "|features                                                                     |\n",
            "+-----------------------------------------------------------------------------+\n",
            "|[-8.4,-1.0,3.8,290.0,37.0,1.2,-20.5,1023.3,0.0,-1.0,0.0,2000.0,-5.5,-4.0,0.0]|\n",
            "|[-8.8,-1.0,4.9,290.0,35.0,1.1,-21.5,1023.6,0.0,-1.0,0.0,2000.0,-5.9,-4.4,0.0]|\n",
            "|[-9.1,-1.0,5.7,290.0,35.0,1.1,-21.7,1023.1,0.0,-1.0,0.0,1800.0,-6.3,-4.7,0.0]|\n",
            "|[-9.3,-1.0,5.3,290.0,36.0,1.1,-21.6,1023.4,0.0,-1.0,0.0,1600.0,-6.6,-5.0,0.0]|\n",
            "|[-9.5,-1.0,4.5,290.0,38.0,1.1,-21.2,1023.9,0.0,-1.0,0.0,1600.0,-6.8,-5.2,0.0]|\n",
            "+-----------------------------------------------------------------------------+\n",
            "only showing top 5 rows\n",
            "\n"
          ]
        }
      ]
    },
    {
      "cell_type": "code",
      "source": [
        "from pyspark.ml.clustering import KMeans\n",
        "from pyspark.ml.evaluation import ClusteringEvaluator"
      ],
      "metadata": {
        "id": "EA_LGOiyZjDz"
      },
      "execution_count": null,
      "outputs": []
    },
    {
      "cell_type": "code",
      "source": [
        "km = KMeans().setK(6)\n",
        "kmModel = km.fit(df2)"
      ],
      "metadata": {
        "id": "RXjMZaInZjG-"
      },
      "execution_count": null,
      "outputs": []
    },
    {
      "cell_type": "code",
      "source": [
        "predictions = kmModel.transform(df2)\n",
        "\n",
        "predictions.show(30)"
      ],
      "metadata": {
        "colab": {
          "base_uri": "https://localhost:8080/"
        },
        "id": "zM4e8X5BZjJ6",
        "outputId": "d641438e-03c7-4330-e66d-e86c32f00949"
      },
      "execution_count": null,
      "outputs": [
        {
          "output_type": "stream",
          "name": "stdout",
          "text": [
            "+-------------------+--------+----------+---------+------------+-------+-----------+--------------+-------------+-----------+--------+--------------+---------+------------+----------------+---------+--------------------+----------+\n",
            "|               일시|기온(°C)|강수량(mm)|풍속(m/s)|풍향(16방위)|습도(%)|증기압(hPa)|이슬점온도(°C)|해면기압(hPa)|일사(MJ/m2)|적설(cm)|전운량(10분위)|시정(10m)|지면온도(°C)|5cm 지중온도(°C)|new전운량|            features|prediction|\n",
            "+-------------------+--------+----------+---------+------------+-------+-----------+--------------+-------------+-----------+--------+--------------+---------+------------+----------------+---------+--------------------+----------+\n",
            "|2015-01-01 03:00:00|    -8.4|      -1.0|      3.8|         290|   37.0|        1.2|         -20.5|       1023.3|        0.0|    -1.0|             0|     2000|        -5.5|            -4.0|        0|[-8.4,-1.0,3.8,29...|         1|\n",
            "|2015-01-01 04:00:00|    -8.8|      -1.0|      4.9|         290|   35.0|        1.1|         -21.5|       1023.6|        0.0|    -1.0|             0|     2000|        -5.9|            -4.4|        0|[-8.8,-1.0,4.9,29...|         1|\n",
            "|2015-01-01 05:00:00|    -9.1|      -1.0|      5.7|         290|   35.0|        1.1|         -21.7|       1023.1|        0.0|    -1.0|             0|     1800|        -6.3|            -4.7|        0|[-9.1,-1.0,5.7,29...|         1|\n",
            "|2015-01-01 06:00:00|    -9.3|      -1.0|      5.3|         290|   36.0|        1.1|         -21.6|       1023.4|        0.0|    -1.0|             0|     1600|        -6.6|            -5.0|        0|[-9.3,-1.0,5.3,29...|         4|\n",
            "|2015-01-01 07:00:00|    -9.5|      -1.0|      4.5|         290|   38.0|        1.1|         -21.2|       1023.9|        0.0|    -1.0|             0|     1600|        -6.8|            -5.2|        0|[-9.5,-1.0,4.5,29...|         4|\n",
            "|2015-01-01 08:00:00|    -9.8|      -1.0|      6.1|         270|   42.0|        1.2|         -20.3|       1024.4|       0.01|    -1.0|             0|     1600|        -7.0|            -5.4|        0|[-9.8,-1.0,6.1,27...|         4|\n",
            "|2015-01-01 09:00:00|    -9.5|      -1.0|      5.1|         290|   41.0|        1.2|         -20.3|       1024.9|       0.28|    -1.0|             0|     1800|        -6.0|            -4.9|        0|[-9.5,-1.0,5.1,29...|         1|\n",
            "|2015-01-01 10:00:00|    -8.6|      -1.0|      5.4|         290|   38.0|        1.2|         -20.4|       1025.6|        0.8|    -1.0|             0|     2000|        -3.0|            -3.9|        0|[-8.6,-1.0,5.4,29...|         1|\n",
            "|2015-01-01 11:00:00|    -7.9|      -1.0|      4.5|         290|   36.0|        1.2|         -20.3|       1025.5|       1.24|    -1.0|             0|     2000|        -0.2|            -2.8|        0|[-7.9,-1.0,4.5,29...|         1|\n",
            "|2015-01-01 12:00:00|    -6.7|      -1.0|      4.2|         290|   33.0|        1.2|         -20.3|       1025.2|       1.55|    -1.0|             0|     2000|         0.2|            -1.9|        0|[-6.7,-1.0,4.2,29...|         1|\n",
            "|2015-01-01 13:00:00|    -6.2|      -1.0|      6.0|         320|   33.0|        1.3|         -19.8|       1024.3|        1.7|    -1.0|             0|     2000|         0.8|            -1.3|        0|[-6.2,-1.0,6.0,32...|         1|\n",
            "|2015-01-01 14:00:00|    -5.4|      -1.0|      5.7|         290|   34.0|        1.4|         -18.8|       1024.2|       1.61|    -1.0|             0|     2000|         0.6|            -0.9|        0|[-5.4,-1.0,5.7,29...|         1|\n",
            "|2015-01-01 15:00:00|    -4.3|      -1.0|      4.4|         270|   33.0|        1.5|         -18.2|       1024.0|       1.33|    -1.0|             0|     2000|         0.5|            -0.7|        0|[-4.3,-1.0,4.4,27...|         1|\n",
            "|2015-01-01 16:00:00|    -4.6|      -1.0|      5.2|         250|   36.0|        1.6|         -17.4|       1024.6|       0.87|    -1.0|             1|     2000|         0.2|            -0.8|        1|[-4.6,-1.0,5.2,25...|         1|\n",
            "|2015-01-01 17:00:00|    -5.7|      -1.0|      4.9|         250|   39.0|        1.6|         -17.4|       1024.9|       0.37|    -1.0|             0|     2000|        -1.5|            -1.3|        0|[-5.7,-1.0,4.9,25...|         1|\n",
            "|2015-01-01 18:00:00|    -6.7|      -1.0|      4.2|         250|   44.0|        1.6|         -16.9|       1025.7|       0.03|    -1.0|             0|     2000|        -3.0|            -2.0|        0|[-6.7,-1.0,4.2,25...|         1|\n",
            "|2015-01-01 21:00:00|    -8.3|      -1.0|      3.2|         290|   52.0|        1.7|         -16.4|       1026.2|        0.0|    -1.0|             0|     2000|        -5.5|            -4.0|        0|[-8.3,-1.0,3.2,29...|         1|\n",
            "|2015-01-02 00:00:00|    -8.7|      -1.0|      2.4|         270|   55.0|        1.7|         -16.1|       1026.1|        0.0|    -1.0|             6|     2000|        -5.9|            -4.6|        6|[-8.7,-1.0,2.4,27...|         1|\n",
            "|2015-01-02 03:00:00|    -8.6|      -1.0|      1.7|         250|   57.0|        1.8|         -15.6|       1025.9|        0.0|    -1.0|             4|     2000|        -5.7|            -4.4|        4|[-8.6,-1.0,1.7,25...|         1|\n",
            "|2015-01-02 04:00:00|    -8.5|      -1.0|      2.2|         250|   59.0|        1.9|         -15.0|       1025.1|        0.0|    -1.0|             6|     1800|        -5.6|            -4.5|        6|[-8.5,-1.0,2.2,25...|         1|\n",
            "|2015-01-02 05:00:00|    -8.4|      -1.0|      1.7|         270|   59.0|        1.9|         -14.9|       1025.0|        0.0|    -1.0|             4|     1800|        -5.5|            -4.4|        4|[-8.4,-1.0,1.7,27...|         1|\n",
            "|2015-01-02 06:00:00|    -8.3|      -1.0|      2.9|         270|   59.0|        1.9|         -14.9|       1024.5|        0.0|    -1.0|             4|     1800|        -5.7|            -4.5|        4|[-8.3,-1.0,2.9,27...|         1|\n",
            "|2015-01-02 07:00:00|    -8.8|      -1.0|      1.6|         270|   63.0|        2.0|         -14.5|       1024.6|        0.0|    -1.0|             4|     1800|        -6.4|            -5.0|        4|[-8.8,-1.0,1.6,27...|         1|\n",
            "|2015-01-02 08:00:00|    -8.9|      -1.0|      1.5|         290|   63.0|        2.0|         -14.6|       1024.3|       0.01|    -1.0|             4|     1800|        -6.4|            -5.3|        4|[-8.9,-1.0,1.5,29...|         1|\n",
            "|2015-01-02 09:00:00|    -7.6|      -1.0|      3.0|         270|   54.0|        1.9|         -15.3|       1025.3|        0.2|    -1.0|             7|     2000|        -5.1|            -4.5|        7|[-7.6,-1.0,3.0,27...|         1|\n",
            "|2015-01-02 10:00:00|    -6.7|      -1.0|      2.7|         290|   48.0|        1.8|         -15.9|       1025.4|       0.46|    -1.0|             6|     2000|        -3.3|            -3.5|        6|[-6.7,-1.0,2.7,29...|         1|\n",
            "|2015-01-02 11:00:00|    -5.3|      -1.0|      3.4|         270|   43.0|        1.8|         -15.9|       1025.3|       0.99|    -1.0|             3|     1700|         0.0|            -2.3|        3|[-5.3,-1.0,3.4,27...|         4|\n",
            "|2015-01-02 12:00:00|    -3.8|      -1.0|      5.0|         270|   37.0|        1.7|         -16.3|       1024.3|       1.51|    -1.0|             0|     1700|         0.3|            -1.4|        0|[-3.8,-1.0,5.0,27...|         4|\n",
            "|2015-01-02 13:00:00|    -3.4|      -1.0|      6.0|         290|   34.0|        1.6|         -17.0|       1023.9|       1.68|    -1.0|             0|     1700|         1.5|            -0.9|        0|[-3.4,-1.0,6.0,29...|         4|\n",
            "|2015-01-02 14:00:00|    -2.8|      -1.0|      5.8|         290|   31.0|        1.5|         -17.6|       1024.2|       1.61|    -1.0|             0|     1800|         0.8|            -0.6|        0|[-2.8,-1.0,5.8,29...|         1|\n",
            "+-------------------+--------+----------+---------+------------+-------+-----------+--------------+-------------+-----------+--------+--------------+---------+------------+----------------+---------+--------------------+----------+\n",
            "only showing top 30 rows\n",
            "\n"
          ]
        }
      ]
    },
    {
      "cell_type": "code",
      "source": [
        "predictions.groupBy('prediction').count().orderBy('count', ascending=False).show()"
      ],
      "metadata": {
        "colab": {
          "base_uri": "https://localhost:8080/"
        },
        "id": "yoF5d7LR0mFi",
        "outputId": "5ab64c61-398e-4872-b34a-185165a7615c"
      },
      "execution_count": null,
      "outputs": [
        {
          "output_type": "stream",
          "name": "stdout",
          "text": [
            "+----------+-----+\n",
            "|prediction|count|\n",
            "+----------+-----+\n",
            "|         1|16096|\n",
            "|         5|11237|\n",
            "|         4| 7036|\n",
            "|         3| 6923|\n",
            "|         0| 6815|\n",
            "|         2| 5866|\n",
            "+----------+-----+\n",
            "\n"
          ]
        }
      ]
    },
    {
      "cell_type": "code",
      "source": [
        "evaluator = ClusteringEvaluator()\n",
        "\n",
        "silhouette = evaluator.evaluate(predictions)\n",
        "print(\"Sihouette 계수 = \", str(silhouette))"
      ],
      "metadata": {
        "id": "YCqZp7F_bLK5",
        "colab": {
          "base_uri": "https://localhost:8080/"
        },
        "outputId": "4a733b7d-bfb6-4d36-b89b-5673eef1e9f8"
      },
      "execution_count": null,
      "outputs": [
        {
          "output_type": "stream",
          "name": "stdout",
          "text": [
            "Sihouette 계수 =  0.6418901096321215\n"
          ]
        }
      ]
    },
    {
      "cell_type": "code",
      "source": [],
      "metadata": {
        "id": "hgtKPRplbLNY"
      },
      "execution_count": null,
      "outputs": []
    },
    {
      "cell_type": "code",
      "source": [],
      "metadata": {
        "id": "JULnNqcIbLQY"
      },
      "execution_count": null,
      "outputs": []
    }
  ]
}